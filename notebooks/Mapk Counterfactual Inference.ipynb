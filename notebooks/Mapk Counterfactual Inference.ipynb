{
 "cells": [
  {
   "cell_type": "markdown",
   "metadata": {},
   "source": [
    "# Mapk Counterfactual Inference"
   ]
  },
  {
   "cell_type": "code",
   "execution_count": 1,
   "metadata": {},
   "outputs": [],
   "source": [
    "import sys\n",
    "sys.path.append('../')\n",
    "\n",
    "import pyro\n",
    "from pyro import sample\n",
    "from pyro.distributions import Normal, Uniform\n",
    "import torch\n",
    "from torch.distributions import constraints\n",
    "from tqdm import tqdm_notebook as tqdm\n",
    "import pyro.optim\n",
    "\n",
    "from pyro.infer.mcmc import MCMC\n",
    "from pyro.infer.mcmc.nuts import NUTS, HMC\n",
    "from pyro.infer import EmpiricalMarginal\n",
    "\n",
    "from mapk_demon.inference import infer_dist\n",
    "from mapk_demon.receivers import mapk_receiver, mapk_companion, mapk_do_receiver\n",
    "\n",
    "import matplotlib.pyplot as plt\n",
    "%matplotlib inline\n",
    "\n",
    "pyro.set_rng_seed(101)\n",
    "sample_size = 1000\n",
    "\n",
    "def hist(marginal, name):\n",
    "    plt.hist([marginal() for _ in range(5000)])\n",
    "    plt.title(\"Marginal Histogram of {}\".format(name))\n",
    "    plt.xlabel(\"concentration\")\n",
    "    plt.ylabel(\"#\")"
   ]
  },
  {
   "cell_type": "markdown",
   "metadata": {},
   "source": [
    "Let $$N_{3k}, N_{2k}, N_k \\sim Normal\\ (10, 1)$$."
   ]
  },
  {
   "cell_type": "code",
   "execution_count": 3,
   "metadata": {},
   "outputs": [],
   "source": [
    "noise_vars = ['N_3k', 'N_2k', 'N_k']\n",
    "noise_dists = {N: Normal(10., 1.) for N in noise_vars}\n",
    "\n",
    "evidence = mapk_receiver(noise_dists)"
   ]
  },
  {
   "cell_type": "markdown",
   "metadata": {},
   "source": [
    "## 1. Condition the model on observed map3k, map2k, mapk"
   ]
  },
  {
   "cell_type": "code",
   "execution_count": 4,
   "metadata": {},
   "outputs": [],
   "source": [
    "conditioned_mapk = pyro.condition(mapk_companion, data=evidence)"
   ]
  },
  {
   "cell_type": "markdown",
   "metadata": {},
   "source": [
    "## 2. Infer the noise distributions N_3k, N_2k, N_k from companion model\n",
    "\n",
    "Let there be a prior over Noise distributions. $$N_{3k}, N_{2k}, N_k \\sim Normal\\ (0, 1)$$.\n",
    "\n",
    "I have used HMC and MCMC for inference."
   ]
  },
  {
   "cell_type": "code",
   "execution_count": 5,
   "metadata": {
    "collapsed": true
   },
   "outputs": [],
   "source": [
    "noise_priors = {N: Normal(0., 1.) for N in noise_vars}\n",
    "\n",
    "posterior = infer_dist(conditioned_mapk, noise_priors)\n",
    "\n",
    "noise_marginals = {\n",
    "    n: EmpiricalMarginal(posterior, sites=n)\n",
    "    for n in noise_vars\n",
    "}"
   ]
  },
  {
   "cell_type": "code",
   "execution_count": 6,
   "metadata": {},
   "outputs": [
    {
     "data": {
      "image/png": "[encoded data removed]",
      "text/plain": [
       "<matplotlib.figure.Figure at 0x151e201e10>"
      ]
     },
     "metadata": {},
     "output_type": "display_data"
    }
   ],
   "source": [
    "hist(noise_marginals['N_2k'], 'N_2k')"
   ]
  },
  {
   "cell_type": "markdown",
   "metadata": {},
   "source": [
    "## 3. do Map3k = 0.678"
   ]
  },
  {
   "cell_type": "code",
   "execution_count": 12,
   "metadata": {},
   "outputs": [],
   "source": [
    "do_map3k = pyro.do(mapk_companion, data={'map3k': torch.tensor(50000.678)})"
   ]
  },
  {
   "cell_type": "markdown",
   "metadata": {},
   "source": [
    "## 4. Infer Mapk"
   ]
  },
  {
   "cell_type": "code",
   "execution_count": 13,
   "metadata": {},
   "outputs": [],
   "source": [
    "# Deriving mean and std by sampling from marginals\n",
    "noise_posterior_mean = {\n",
    "    n: torch.stack([noise_marginals[n]() for _ in range(5000)]).mean()\n",
    "    for n in noise_vars\n",
    "}\n",
    "noise_posterior_std = {\n",
    "    n: torch.stack([noise_marginals[n]() for _ in range(5000)]).std()\n",
    "    for n in noise_vars\n",
    "}\n",
    "\n",
    "noise_posteriors = {\n",
    "    n: Normal(noise_posterior_mean[n], noise_posterior_std[n])\n",
    "    for n in noise_vars\n",
    "}\n",
    "\n",
    "mapk_do_dist = infer_dist(do_map3k, noise_posteriors)\n",
    "\n",
    "mapk_marginal = EmpiricalMarginal(mapk_do_dist, sites='map2k')"
   ]
  },
  {
   "cell_type": "code",
   "execution_count": 14,
   "metadata": {},
   "outputs": [
    {
     "data": {
      "image/png": "[encoded data removed]",
      "text/plain": [
       "<matplotlib.figure.Figure at 0x1521939eb8>"
      ]
     },
     "metadata": {},
     "output_type": "display_data"
    }
   ],
   "source": [
    "hist(mapk_marginal, 'map2k')"
   ]
  },
  {
   "cell_type": "code",
   "execution_count": 16,
   "metadata": {},
   "outputs": [
    {
     "data": {
      "text/plain": [
       "tensor(7.7734)"
      ]
     },
     "execution_count": 16,
     "metadata": {},
     "output_type": "execute_result"
    }
   ],
   "source": [
    "torch.stack([mapk_do_receiver(0.678, noise_posteriors)]*1000).mean()"
   ]
  },
  {
   "cell_type": "code",
   "execution_count": null,
   "metadata": {
    "collapsed": true
   },
   "outputs": [],
   "source": []
  }
 ],
 "metadata": {
  "kernelspec": {
   "display_name": "Python 3",
   "language": "python",
   "name": "python3"
  },
  "language_info": {
   "codemirror_mode": {
    "name": "ipython",
    "version": 3
   },
   "file_extension": ".py",
   "mimetype": "text/x-python",
   "name": "python",
   "nbconvert_exporter": "python",
   "pygments_lexer": "ipython3",
   "version": "3.6.3"
  }
 },
 "nbformat": 4,
 "nbformat_minor": 2
}
