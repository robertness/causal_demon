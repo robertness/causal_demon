{
 "cells": [
  {
   "cell_type": "markdown",
   "metadata": {},
   "source": [
    "# Counterfactual Modeling of aa Biochemical Network\n",
    "\n",
    "This workflow demonstrates counterfactual modeling using a [dynamic model of biochemical signaling in lung cancer](https://wwwdev.ebi.ac.uk/biomodels/BIOMD0000000427).\n",
    "\n",
    "## Model background\n",
    "\n",
    "### What is this?\n",
    "\n",
    "\n",
    "This is a dynamic model of cell signaling in lung cancer by [Bianconi et al 2012](https://wwwdev.ebi.ac.uk/biomodels/BIOMD0000000427). Visualization of the model: ![bianconi_viz](https://i.imgur.com/6KUXKsy.png)\n",
    "\n",
    "The nodes 'sos', 'ras', 'pi3k', 'akt', 'raf', 'mek', 'erk', and 'p90' represent concentrations of enzymatically active proteins at steady state.  This dynamic model is specified as a set of species and reactions between species using Michaelis-Menton kinetics.  The model can be downloaded from [biomodels.org](https://wwwdev.ebi.ac.uk/biomodels/BIOMD0000000427) as a file written in a markup language called SBML, which can be compiled with various software tools.\n",
    "\n",
    "A module in this repository called `cancer_signaling` uses structural causal modeling to represent the system at *steady state*.  This approach assumes the system is stochastic, and models the probability distribution of the concentrations of the proteins.  The derivations underlying the model can be found in the *bianconi_math* document.\n",
    "\n",
    "### Counterfactual reasoning on a biochemical model can inform experimental design.\n",
    "\n",
    "Suppose an experimentalist wanted to do an experiment on the system (eg. forcing a variable's value to increase or knocking it out).  Furthermore, suppose she already has data collected under entirely different conditions than in the proposed experiment.\n",
    "\n",
    "Counterfactual reasoning could simulate from a probability distribution representing the outcome of the experiment prior to spending the resources on the experiment.  This could save resources by, for example, prioritizing experiments more likely to produce interesting discoveries.\n",
    "\n",
    "### Who would use this?\n",
    "\n",
    "This type of dynamic model simulates biochemical reactions in cells. They are used in fields such as drug discovery and synthetic biology to model the effects of an intervention in the cellular system (such as a candidate compound or manipulation of the genetic machinery)."
   ]
  },
  {
   "cell_type": "code",
   "execution_count": 79,
   "metadata": {},
   "outputs": [],
   "source": [
    "from math import exp\n",
    "\n",
    "from pyro.distributions import LogNormal,Normal\n",
    "from pyro.primitives import iarange\n",
    "from pyro import condition, do, infer, sample\n",
    "from pyro.infer import EmpiricalMarginal\n",
    "from torch import tensor\n",
    "\n",
    "import sys\n",
    "sys.path.append('../')\n",
    "from causal_demon.inference import infer_dist\n",
    "from causal_demon.transmitters import cancer_signaling\n",
    "\n",
    "from matplotlib import pyplot as plt\n",
    "%matplotlib inline\n",
    "\n",
    "def hist(marginal, name):\n",
    "    plt.hist([marginal() for _ in range(5000)])\n",
    "    plt.title(\"Marginal Histogram of {}\".format(name))\n",
    "    plt.xlabel(\"concentration\")\n",
    "    plt.ylabel(\"#\")"
   ]
  },
  {
   "cell_type": "markdown",
   "metadata": {},
   "source": [
    "Each noise term is modeled with a weakly informed prior."
   ]
  },
  {
   "cell_type": "code",
   "execution_count": 82,
   "metadata": {},
   "outputs": [
    {
     "name": "stdout",
     "output_type": "stream",
     "text": [
      "tensor(0.1904)\n"
     ]
    }
   ],
   "source": [
    "noise_vars = ['N_egf', 'N_igf', 'N_sos', 'N_ras', 'N_pi3k', 'N_akt', 'N_raf', 'N_mek', 'N_erk']\n",
    "noise_prior = {N: LogNormal(0, 10) for N in noise_vars}\n",
    "\n",
    "print(noise_prior['N_egf'].sample())"
   ]
  },
  {
   "cell_type": "code",
   "execution_count": 83,
   "metadata": {},
   "outputs": [
    {
     "data": {
      "text/plain": [
       "{'akt': tensor(405643.),\n",
       " 'egf': tensor(44953.8320),\n",
       " 'erk': tensor(3115.5735),\n",
       " 'igf': tensor(0.1029),\n",
       " 'mek': tensor(162.8303),\n",
       " 'pi3k': tensor(119770.7422),\n",
       " 'raf': tensor(4.5652),\n",
       " 'ras': tensor(176.5171),\n",
       " 'sos': tensor(28.5478)}"
      ]
     },
     "execution_count": 83,
     "metadata": {},
     "output_type": "execute_result"
    }
   ],
   "source": [
    "cancer_signaling(noise_prior)"
   ]
  },
  {
   "cell_type": "code",
   "execution_count": 84,
   "metadata": {
    "collapsed": true
   },
   "outputs": [],
   "source": [
    "# Experimental use only, please ignore\n",
    "\n",
    "#noise_priors = {N: LogNormal(0, .001) for N in noise_vars}\n",
    "#evidence = {'egf': tensor(800.), 'igf': tensor(2.)}\n",
    "#scm_obs = condition(scm, data=evidence)\n",
    "#scm_obs(noise_priors)"
   ]
  },
  {
   "cell_type": "markdown",
   "metadata": {},
   "source": [
    "## Counterfactual Inference\n",
    "\n",
    "The goal is to observe the system under natural (or perhaps experimental) conditions and then use this to make counterfactual predictions - i.e. use observations to inform inferences on what the system's behavior would have been if the observations had been different."
   ]
  },
  {
   "cell_type": "markdown",
   "metadata": {},
   "source": [
    "### Conditioning on data from previous observations\n",
    "\n",
    "A scientist might observe values for each of the variables (or a subset thereof) in previous experiments.\n",
    "\n",
    "Suppose that in this experiment Igf was blocked.  Egf and Erk were observed to have concentration values of 800. in these settings.\n",
    "\n",
    "**Counterfactual query**: What would Erk levels be if there had Igf concentration also been 800?"
   ]
  },
  {
   "cell_type": "markdown",
   "metadata": {},
   "source": [
    "1. Condition program on EGF being 800, IGF being 0, and Erk being 800, and infer the conditional distribution."
   ]
  },
  {
   "cell_type": "code",
   "execution_count": 213,
   "metadata": {},
   "outputs": [],
   "source": [
    "evidence = {'egf': tensor([800.]), 'igf': tensor([0.,0.]), 'erk': tensor([800.])}\n",
    "\n",
    "cancer_obs = condition(cancer_signaling, data= evidence)\n",
    "\n",
    "#evidence = [{'egf': tensor([800.]), 'igf': tensor([0.]), 'erk': tensor([800.])},{'egf': tensor([800.]), 'igf': tensor([0.]), 'erk': tensor([800.])},{'egf': tensor([600.]), 'igf': tensor([0.]), 'erk': tensor([600.])},{'egf': tensor([800.]), 'igf': tensor([0.]), 'erk': tensor([800.])},{'egf': tensor([600.]), 'igf': tensor([0.]), 'erk': tensor([600.])}]\n",
    "\n",
    "#with iarange('data',len(evidence)) as ind:\n",
    "#    print(ind)\n",
    "#    cancer_obs = condition(cancer_signaling, data= evidence)"
   ]
  },
  {
   "cell_type": "markdown",
   "metadata": {},
   "source": [
    "2. Infer an observational distribution."
   ]
  },
  {
   "cell_type": "code",
   "execution_count": 180,
   "metadata": {},
   "outputs": [],
   "source": [
    "cancer_dist = infer_dist(cancer_obs, noise_prior)"
   ]
  },
  {
   "cell_type": "markdown",
   "metadata": {},
   "source": [
    "3. Do posterior inference on the noise variables, and obtain a marginal distribution for each variable."
   ]
  },
  {
   "cell_type": "code",
   "execution_count": 181,
   "metadata": {
    "collapsed": true
   },
   "outputs": [],
   "source": [
    "noise_marginals = {\n",
    "    n: EmpiricalMarginal(cancer_dist, sites=n)\n",
    "    for n in noise_vars\n",
    "}"
   ]
  },
  {
   "cell_type": "markdown",
   "metadata": {},
   "source": [
    "4. Apply do-operator to original program to obtain intervention program."
   ]
  },
  {
   "cell_type": "code",
   "execution_count": 204,
   "metadata": {},
   "outputs": [],
   "source": [
    "cancer_do = do(cancer_signaling, data={'igf': tensor([800.,600.])})"
   ]
  },
  {
   "cell_type": "markdown",
   "metadata": {},
   "source": [
    "5. Pass updated noise marginals to intervention program, and obtain counterfactual distribution on Erk."
   ]
  },
  {
   "cell_type": "code",
   "execution_count": 207,
   "metadata": {},
   "outputs": [
    {
     "name": "stdout",
     "output_type": "stream",
     "text": [
      "<pyro.infer.importance.Importance object at 0x152ad7df98>\n"
     ]
    }
   ],
   "source": [
    "cancer_do_dist = infer_dist(cancer_do, noise_marginals)\n",
    "print(cancer_do_dist)\n",
    "erk_cf_marginal = EmpiricalMarginal(cancer_do_dist, sites = 'erk')"
   ]
  },
  {
   "cell_type": "code",
   "execution_count": 201,
   "metadata": {},
   "outputs": [
    {
     "name": "stdout",
     "output_type": "stream",
     "text": [
      "[tensor([90.9036, 90.9029])]\n"
     ]
    }
   ],
   "source": [
    "#hist(erk_cf_marginal, 'Erk')\n",
    "\n",
    "print(erk_cf_marginal())\n",
    "#\n",
    "#plt.hist([erk_cf_marginal().item() for _ in range(100)])\n",
    "#plt.title(\"Erk\")"
   ]
  },
  {
   "cell_type": "markdown",
   "metadata": {},
   "source": [
    "## Extentions\n",
    "\n",
    "* Condition on IID data\n",
    "* Use SVI\n",
    "* Extend the model to accomadate uncertainty in parameters"
   ]
  }
 ],
 "metadata": {
  "kernelspec": {
   "display_name": "Python 3",
   "language": "python",
   "name": "python3"
  },
  "language_info": {
   "codemirror_mode": {
    "name": "ipython",
    "version": 3
   },
   "file_extension": ".py",
   "mimetype": "text/x-python",
   "name": "python",
   "nbconvert_exporter": "python",
   "pygments_lexer": "ipython3",
   "version": "3.6.3"
  }
 },
 "nbformat": 4,
 "nbformat_minor": 2
}
