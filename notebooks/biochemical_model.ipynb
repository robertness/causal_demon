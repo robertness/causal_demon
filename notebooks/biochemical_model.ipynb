{
 "cells": [
  {
   "cell_type": "markdown",
   "metadata": {},
   "source": [
    "# Counterfactual Modeling with a Biochemical Network\n",
    "\n",
    "This workflow demonstrates counterfactual modeling using a [dynamic model of biochemical signaling in lung cancer](https://wwwdev.ebi.ac.uk/biomodels/BIOMD0000000427).\n",
    "\n",
    "## Model background\n",
    "\n",
    "### What is this?\n",
    "\n",
    "\n",
    "This is a dynamic model of cell signaling in lung cancer by [Bianconi et al 2012](https://wwwdev.ebi.ac.uk/biomodels/BIOMD0000000427). Visualization of the model: ![bianconi_viz](https://i.imgur.com/6KUXKsy.png)\n",
    "\n",
    "The nodes 'sos', 'ras', 'pi3k', 'akt', 'raf', 'mek', 'erk', and 'p90' represent concentrations of enzymatically active proteins at steady state.  This dynamic model is specified as a set of species and reactions between species using Michaelis-Menton kinetics.  The model can be downloaded from [biomodels.org](https://wwwdev.ebi.ac.uk/biomodels/BIOMD0000000427) as a file written in a markup language called SBML, which can be compiled with various software tools.\n",
    "\n",
    "A module in this repository called `cancer_signaling` uses structural causal modeling to represent the system at *steady state*.  This approach assumes the system is stochastic, and models the probability distribution of the concentrations of the proteins.  The derivations underlying the model can be found in the *bianconi_math* document.\n",
    "\n",
    "### Counterfactual reasoning on a biochemical model can inform experimental design.\n",
    "\n",
    "Suppose an experimentalist wanted to do an experiment on the system (eg. forcing a variable's value to increase or knocking it out).  Furthermore, suppose she already has data collected under entirely different conditions than in the proposed experiment.\n",
    "\n",
    "Counterfactual reasoning could simulate from a probability distribution representing the outcome of the experiment prior to spending the resources on the experiment.  This could save resources by, for example, prioritizing experiments more likely to produce interesting discoveries.\n",
    "\n",
    "### Who would use this?\n",
    "\n",
    "This type of dynamic model simulates biochemical reactions in cells. They are used in fields such as drug discovery and synthetic biology to model the effects of an intervention in the cellular system (such as a candidate compound or manipulation of the genetic machinery)."
   ]
  },
  {
   "cell_type": "code",
   "execution_count": 1,
   "metadata": {},
   "outputs": [],
   "source": [
    "from math import exp\n",
    "\n",
    "from pprint import pprint\n",
    "import pyro\n",
    "from pyro.distributions import LogNormal\n",
    "from pyro import condition, do, infer, sample\n",
    "from pyro.infer import EmpiricalMarginal\n",
    "from pyro.infer.mcmc import MCMC\n",
    "from pyro.infer.mcmc.nuts import NUTS\n",
    "import torch\n",
    "import warnings\n",
    "warnings.filterwarnings('ignore')\n",
    "\n",
    "from causal_demon.transmitters import cancer_signaling\n",
    "\n",
    "from matplotlib import pyplot as plt\n",
    "%matplotlib inline\n"
   ]
  },
  {
   "cell_type": "markdown",
   "metadata": {},
   "source": [
    "### Helper functions for inference\n",
    "\n",
    "Since the inference algorithm is not the focus of this tutorial, I hide the choice of algorithm in an abstraction."
   ]
  },
  {
   "cell_type": "code",
   "execution_count": 2,
   "metadata": {},
   "outputs": [],
   "source": [
    "def infer_mcmc(model):\n",
    "    nuts_kernel = NUTS(model, adapt_step_size=True)\n",
    "    return MCMC(nuts_kernel, num_samples=500, warmup_steps=300)\n",
    "\n",
    "def infer_importance(model):\n",
    "    return pyro.infer.Importance(model, num_samples=1000)"
   ]
  },
  {
   "cell_type": "code",
   "execution_count": 3,
   "metadata": {},
   "outputs": [],
   "source": [
    "def plot_erk(data):\n",
    "    plt.boxplot(data['erk'])\n",
    "    plt.title(\"Empirical Distribution of Erk\")\n",
    "    plt.xlabel(\"Condition\")\n",
    "    plt.ylabel(\"Concentration\")\n",
    "    plt.show()"
   ]
  },
  {
   "cell_type": "markdown",
   "metadata": {},
   "source": [
    "# Simulating \"wild type\" data from the model"
   ]
  },
  {
   "cell_type": "markdown",
   "metadata": {},
   "source": [
    "\"Wild type\" refers to data forward-generated from the model. \n",
    "\n",
    "Pass in noise variables that capture the variation in the model.  Each noise term is modeled with a weakly informed prior."
   ]
  },
  {
   "cell_type": "code",
   "execution_count": 4,
   "metadata": {},
   "outputs": [],
   "source": [
    "noise_vars = ['N_egf', 'N_igf', 'N_sos', 'N_ras', 'N_pi3k', 'N_akt', 'N_raf', 'N_mek', 'N_erk']\n",
    "# 4 observations\n",
    "mean = torch.zeros(4)\n",
    "noise_priors = {N: LogNormal(mean, 10) for N in noise_vars}"
   ]
  },
  {
   "cell_type": "code",
   "execution_count": 5,
   "metadata": {},
   "outputs": [
    {
     "data": {
      "text/plain": [
       "{'egf': tensor([2.7954e+01, 4.8299e-05, 1.5163e+03, 9.9427e-03]),\n",
       " 'igf': tensor([9.4691e-07, 3.3414e-01, 3.6192e-07, 4.3954e-01]),\n",
       " 'sos': tensor([6.6813e+05, 9.2959e-03, 9.6350e-01, 1.4639e-02]),\n",
       " 'ras': tensor([3.1628e+05, 3.5068e+08, 8.2278e-01, 1.3921e-02]),\n",
       " 'pi3k': tensor([113766.5859, 120093.1250, 113535.1094,    619.6009]),\n",
       " 'akt': tensor([397999.4688, 405185.7500, 397726.4688,   6370.0747]),\n",
       " 'raf': tensor([7.7653e+03, 1.1844e+05, 2.1608e-02, 8.0440e+02]),\n",
       " 'mek': tensor([1.8952e+05, 5.3718e+05, 1.7275e+00, 2.7386e+04]),\n",
       " 'erk': tensor([5.1520e+05, 5.7953e+05, 1.4578e+08, 2.8049e+05])}"
      ]
     },
     "execution_count": 5,
     "metadata": {},
     "output_type": "execute_result"
    }
   ],
   "source": [
    "cancer_signaling(noise_priors)"
   ]
  },
  {
   "cell_type": "markdown",
   "metadata": {},
   "source": [
    "# Simulating an intervention experiment with the do-operator\n",
    "\n",
    "Suppose we have an *intervention query*:\n",
    "\n",
    "### Intervention Query: *What would happen if we blocked IGF and varied the amount of EGF?*\n",
    "\n",
    "We could answer this query with an experiment:\n",
    "* 3 conditions: EGF is varied from low (set to 800), medium (8000), to high (80000) concentrations\n",
    "* 2 replicates of each condition.\n",
    "* IGF is blocked (set to 0).\n",
    "\n",
    "Prior to running the experiment, we can simulate the experiment using this model.  \n",
    "\n",
    "**Why simulate experiments?**  Interventions with the `do` operator allow you to simulate the results of an experiment prior to spending the resources to conduct the experiment.\n",
    "\n",
    "The interventions on IFG and EGF in this example are one set from a very large set of possible interventions.  Which sent of interventions is the best?  You can answer this by defining a cost function on the experimental results, applying that function to simulated data, and iteratively searching for a set of interventions that optimizes that cost function. "
   ]
  },
  {
   "cell_type": "code",
   "execution_count": 6,
   "metadata": {},
   "outputs": [
    {
     "name": "stdout",
     "output_type": "stream",
     "text": [
      "{'akt': tensor([[391321.7812, 391321.9688],\n",
      "        [403665.8125, 403666.0000],\n",
      "        [404943.1250, 404943.2812]]),\n",
      " 'egf': tensor([[  800.,   800.],\n",
      "        [ 8000.,  8000.],\n",
      "        [80000., 80000.]]),\n",
      " 'erk': tensor([[ 696.6604,  773.3032],\n",
      "        [ 715.8817,  864.9516],\n",
      "        [1529.1610, 1453.6689]]),\n",
      " 'igf': tensor([[0., 0.],\n",
      "        [0., 0.],\n",
      "        [0., 0.]]),\n",
      " 'mek': tensor([[36.2059, 40.2062],\n",
      "        [37.2172, 44.9751],\n",
      "        [79.6481, 75.7078]]),\n",
      " 'pi3k': tensor([[108277.4531, 108277.5469],\n",
      "        [118715.4531, 118715.6094],\n",
      "        [119870.9766, 119871.1562]]),\n",
      " 'raf': tensor([[0.9847, 1.0942],\n",
      "        [1.0185, 1.2332],\n",
      "        [2.2002, 2.0968]]),\n",
      " 'ras': tensor([[ 2.3053,  2.2083],\n",
      "        [ 6.3968,  6.3944],\n",
      "        [45.1486, 45.3369]]),\n",
      " 'sos': tensor([[ 1.5161,  1.4281],\n",
      "        [ 6.1106,  6.0218],\n",
      "        [51.8502, 51.8491]])}\n"
     ]
    }
   ],
   "source": [
    "mean = torch.zeros([3, 2])\n",
    "noise_priors = {N: LogNormal(mean, .1) for N in noise_vars}\n",
    "conditions = {\n",
    "    'egf': torch.tensor(\n",
    "        [\n",
    "            [800., 800.],\n",
    "            [8000., 8000.],\n",
    "            [80000., 80000.]\n",
    "        ]\n",
    "    ),\n",
    "    'igf': torch.zeros([3, 2])\n",
    "}\n",
    "initial_experiment = do(cancer_signaling, data=conditions)\n",
    "initial_results = initial_experiment(noise_priors)\n",
    "pprint(initial_results)"
   ]
  },
  {
   "cell_type": "code",
   "execution_count": 7,
   "metadata": {},
   "outputs": [
    {
     "data": {
      "image/png": "[encoded data removed]",
      "text/plain": [
       "<Figure size 432x288 with 1 Axes>"
      ]
     },
     "metadata": {
      "needs_background": "light"
     },
     "output_type": "display_data"
    }
   ],
   "source": [
    "plot_erk(initial_results)"
   ]
  },
  {
   "cell_type": "markdown",
   "metadata": {},
   "source": [
    "# Simulating a follow-up experiment using counterfactual inference\n",
    "\n",
    "Suppose that after that initial experiment, we want to try a new experiment under a different set of conditions.  We could repeat the simulation we just ran under the new conditions, but we can improve the quality of the simulation by using the old data.\n",
    "\n",
    "However, the old data was collected under different experimental conditions than in the proposed experiment.  This is addressed by posing a counterfactual query to the model:  \n",
    "\n",
    "### Counterfactual Query: *Given the observations of Erk after fixing IGF to 0, what would Erk have been if IGF were set to 800?*\n",
    "\n",
    "The following illustrates how to use the counterfactual simulation algorithm to answer this query."
   ]
  },
  {
   "cell_type": "markdown",
   "metadata": {},
   "source": [
    "### Conditioning on previous observations\n",
    "\n",
    "Firstly, we pretend the simulated data from the previous section is real, and that we only collected data for Erk."
   ]
  },
  {
   "cell_type": "code",
   "execution_count": 8,
   "metadata": {},
   "outputs": [],
   "source": [
    "erk_data = initial_results['erk']\n"
   ]
  },
  {
   "cell_type": "markdown",
   "metadata": {},
   "source": [
    "## Step 1: Condition the model of the initial experiment on the observed data"
   ]
  },
  {
   "cell_type": "code",
   "execution_count": 9,
   "metadata": {},
   "outputs": [],
   "source": [
    "evidence = {'erk': initial_results['erk']}\n",
    "initial_experiment_conditioned = condition(initial_experiment, data=evidence)"
   ]
  },
  {
   "cell_type": "markdown",
   "metadata": {},
   "source": [
    "## Step 2: Update the noise priors given the observed data."
   ]
  },
  {
   "cell_type": "code",
   "execution_count": 10,
   "metadata": {},
   "outputs": [],
   "source": [
    "model_posterior = infer_importance(initial_experiment_conditioned).run(noise_priors)\n",
    "noise_posteriors = {\n",
    "    n: EmpiricalMarginal(model_posterior, sites=n)\n",
    "    for n in noise_vars\n",
    "}"
   ]
  },
  {
   "cell_type": "markdown",
   "metadata": {},
   "source": [
    "## Step 3. Apply do-operator to original model to obtain a model of the new experiment"
   ]
  },
  {
   "cell_type": "code",
   "execution_count": 11,
   "metadata": {},
   "outputs": [],
   "source": [
    "conditions = {\n",
    "    'egf': torch.tensor(\n",
    "        [\n",
    "            [800., 800.],\n",
    "            [8000., 8000.],\n",
    "            [80000., 80000.],\n",
    "        ]\n",
    "    ),\n",
    "    'igf': torch.tensor(\n",
    "        [\n",
    "            [800., 800.],\n",
    "            [800., 800.],\n",
    "            [800., 800.],\n",
    "        ]\n",
    "    ),\n",
    "}\n",
    "counterfactual_experiment = do(cancer_signaling, data=conditions)"
   ]
  },
  {
   "cell_type": "markdown",
   "metadata": {},
   "source": [
    "### 4. Pass the updated noise marginals to the model of the new experiment."
   ]
  },
  {
   "cell_type": "code",
   "execution_count": 12,
   "metadata": {},
   "outputs": [],
   "source": [
    "new_results = counterfactual_experiment(noise_posteriors)"
   ]
  },
  {
   "cell_type": "code",
   "execution_count": 13,
   "metadata": {},
   "outputs": [
    {
     "data": {
      "image/png": "[encoded data removed]",
      "text/plain": [
       "<Figure size 432x288 with 1 Axes>"
      ]
     },
     "metadata": {
      "needs_background": "light"
     },
     "output_type": "display_data"
    }
   ],
   "source": [
    "plot_erk(new_results)"
   ]
  },
  {
   "cell_type": "markdown",
   "metadata": {},
   "source": [
    "## Extentions\n",
    "\n",
    "* ~~Condition on IID data~~\n",
    "* Use SVI\n",
    "* Extend the model to accomadate uncertainty in parameters"
   ]
  }
 ],
 "metadata": {
  "kernelspec": {
   "display_name": "venv",
   "language": "python",
   "name": "venv"
  },
  "language_info": {
   "codemirror_mode": {
    "name": "ipython",
    "version": 3
   },
   "file_extension": ".py",
   "mimetype": "text/x-python",
   "name": "python",
   "nbconvert_exporter": "python",
   "pygments_lexer": "ipython3",
   "version": "3.6.4"
  }
 },
 "nbformat": 4,
 "nbformat_minor": 2
}
