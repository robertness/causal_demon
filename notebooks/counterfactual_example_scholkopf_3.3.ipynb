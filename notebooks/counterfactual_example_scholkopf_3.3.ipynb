{
 "cells": [
  {
   "cell_type": "code",
   "execution_count": null,
   "metadata": {},
   "outputs": [],
   "source": [
    "from torch import tensor\n",
    "\n",
    "import pyro\n",
    "from pyro import condition, do, sample\n",
    "from pyro.infer import Importance, EmpiricalMarginal\n",
    "from pyro.distributions import Bernoulli as Flip\n",
    "from pyro.distributions import Delta\n",
    "\n",
    "from matplotlib import pyplot as plt\n",
    "%matplotlib inline"
   ]
  },
  {
   "cell_type": "markdown",
   "metadata": {},
   "source": [
    "# Goal of this version"
   ]
  },
  {
   "cell_type": "markdown",
   "metadata": {},
   "source": [
    "The goal here is to start working on key abstractions."
   ]
  },
  {
   "cell_type": "markdown",
   "metadata": {},
   "source": [
    "# Toy Model:  Blindness Clinical Trial"
   ]
  },
  {
   "cell_type": "markdown",
   "metadata": {},
   "source": [
    "## Problem\n",
    "1.  Everybody has a blindness disease.\n",
    "2.  We randomize people to control (T=0) or treatment (T=1)\n",
    "3.  Generally people who DON'T get treatment (T=0) go blind (B=1) the next day.  If they do get treatment (T=1), then they don't go blind the next day (B=0).\n",
    "4. 1% of the population has this rare genotype where if they are treated (T=1) then they DO go blind the next day (B=1). And if they are not treated (T=0) then they DON'T go blind. \n",
    "\n",
    "### Reasoning question: \n",
    "A person was treated and they went blind.  Would they have gone blind if that hand not been treated?\n",
    "\n",
    "$P_M^{T=1, B=1, do(T=0)}$\n",
    "\n",
    "### Structural Causal Model approach to probabilistic programming\n",
    "\n",
    "Parameterize model by splitting into the noise variables and endogenous variables.  Noise variables are the only random variabls.  Endogenous variables are deterministic functions of the random vars.\n",
    "\n",
    "*Randomized assignment*\n",
    "$N_t \\sim \\text{Benoulli}(0.5)$ \n",
    "\n",
    "*Population prior on genotype.*\n",
    "$N_b \\sim \\text{Benoulli}(0.01)$ \n",
    "\n",
    "*Treatment state*\n",
    "$T \\sim \\text{Delta}(N_t)$\n",
    "\n",
    "*Blindness outcome*\n",
    "$B \\sim \\text{Delta}(T * N_b + (1-T)(1-N_b)$\n"
   ]
  },
  {
   "cell_type": "markdown",
   "metadata": {},
   "source": [
    "Implement the clinical trial model."
   ]
  },
  {
   "cell_type": "code",
   "execution_count": null,
   "metadata": {},
   "outputs": [],
   "source": [
    "def rct(NB_dist):\n",
    "    NT = sample('NT', Flip(.5))\n",
    "    NB = sample('NB', NB_dist)\n",
    "    T = sample('T', Delta(NT))\n",
    "    B = sample('B', Delta(T * NB + (1-T) * (1-NB)))\n",
    "    return B\n"
   ]
  },
  {
   "cell_type": "markdown",
   "metadata": {},
   "source": [
    "## Compute the marginal on B"
   ]
  },
  {
   "cell_type": "code",
   "execution_count": null,
   "metadata": {},
   "outputs": [],
   "source": [
    "dist = Importance(rct, num_samples=1000)\n",
    "marginal = EmpiricalMarginal(dist.run(Flip(.01)), sites = 'B')\n",
    "plt.hist([marginal().item() for _ in range(100)], range=(0.0, 1.0))\n",
    "plt.title(\"P(B)\")\n",
    "plt.xlabel(\"B\")\n",
    "plt.ylabel(\"#\");"
   ]
  },
  {
   "cell_type": "markdown",
   "metadata": {},
   "source": [
    "## Compute the counterfactual\n",
    "\n",
    "Marginal on what B would have been if \"do(T = 0)\", conditional on observing T = 1 & B = 1"
   ]
  },
  {
   "cell_type": "markdown",
   "metadata": {},
   "source": [
    "1. Obtain the posterior on the noise distribution, conditional on evidence T = 1 & B = 1."
   ]
  },
  {
   "cell_type": "code",
   "execution_count": null,
   "metadata": {},
   "outputs": [],
   "source": [
    "conditioned_model = condition(rct, data={\"T\": tensor(1.), \"B\": tensor(1.), })\n",
    "conditional_dist = Importance(conditioned_model, num_samples=1000)\n",
    "NB_marginal = EmpiricalMarginal(conditional_dist.run(Flip(.01)), sites = 'NB')"
   ]
  },
  {
   "cell_type": "markdown",
   "metadata": {},
   "source": [
    "2. Obtain the interventional distribution for T = 0."
   ]
  },
  {
   "cell_type": "code",
   "execution_count": null,
   "metadata": {},
   "outputs": [],
   "source": [
    "intervention_model = do(rct, data={\"T\": tensor(0.)})\n",
    "intervention_dist = Importance(intervention_model, num_samples=1000)"
   ]
  },
  {
   "cell_type": "markdown",
   "metadata": {},
   "source": [
    "3. Pass the updated noise distribution to the intervention distribution."
   ]
  },
  {
   "cell_type": "code",
   "execution_count": null,
   "metadata": {},
   "outputs": [],
   "source": [
    "counterfactual_dist = EmpiricalMarginal(intervention_dist.run(NB_marginal), sites = 'B')"
   ]
  },
  {
   "cell_type": "code",
   "execution_count": null,
   "metadata": {},
   "outputs": [],
   "source": [
    "plt.hist([counterfactual_dist().item() for _ in range(100)], range=(0.0, 1.0))\n",
    "plt.title(\"P(B | observe(T = 1 & B = 1), do(T = 0)\")\n",
    "plt.xlabel(\"B\")\n",
    "plt.ylabel(\"#\")"
   ]
  }
 ],
 "metadata": {
  "kernelspec": {
   "display_name": "venv",
   "language": "python",
   "name": "venv"
  },
  "language_info": {
   "codemirror_mode": {
    "name": "ipython",
    "version": 3
   },
   "file_extension": ".py",
   "mimetype": "text/x-python",
   "name": "python",
   "nbconvert_exporter": "python",
   "pygments_lexer": "ipython3",
   "version": "3.6.4"
  }
 },
 "nbformat": 4,
 "nbformat_minor": 2
}
