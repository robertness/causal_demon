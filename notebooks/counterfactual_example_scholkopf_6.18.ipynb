{
 "cells": [
  {
   "cell_type": "code",
   "execution_count": null,
   "metadata": {},
   "outputs": [],
   "source": [
    "from functools import partial\n",
    "import torch\n",
    "from torch import tensor\n",
    "from torch.autograd import Variable, gradcheck\n",
    "\n",
    "import pyro\n",
    "from pyro import condition, do, infer, sample\n",
    "from pyro.distributions import Categorical, Delta, Normal\n",
    "from pyro.infer import EmpiricalMarginal, Importance\n",
    "\n",
    "from matplotlib import pyplot as plt\n",
    "%matplotlib inline"
   ]
  },
  {
   "cell_type": "markdown",
   "metadata": {},
   "source": [
    "# Preamble\n",
    "Tools for increase readability and saving space."
   ]
  },
  {
   "cell_type": "code",
   "execution_count": null,
   "metadata": {},
   "outputs": [],
   "source": [
    "# Use importance sampling with 5000 samples for inference\n",
    "\n",
    "def sample_f(name, dist):\n",
    "    \"\"\"Convert a sampled integer to a float\n",
    "    \"\"\"\n",
    "    return tensor(float(sample(name, dist)))\n",
    "\n",
    "def hist(marginal, name, rng=(-20, 60)):\n",
    "    plt.hist([marginal() for _ in range(5000)], range=rng)\n",
    "    plt.title(\"Marginal Histogram of {}\".format(name))\n",
    "    plt.xlabel(\"weight\")\n",
    "    plt.ylabel(\"#\")\n",
    "    \n",
    "def infer_dist(prog, n_dist):\n",
    "    \"\"\"Obtain the unique distribution entailed by a SCM.\n",
    "    Simple importance sampling with 5000 samples is used.\n",
    "    `prog`: the subroutine encoding the SCM.\n",
    "    `n_dist`: a dictionary containing distributions for each\n",
    "    noise object.\n",
    "    \"\"\"\n",
    "    return Importance(prog, num_samples=5000).run(n_dist)"
   ]
  },
  {
   "cell_type": "markdown",
   "metadata": {},
   "source": [
    "# Structural Causal Models (SCMs)\n",
    "\n",
    "Consider a simple model with a typically unobserved latent class $Z$, and two observed features, with the following causal DAG representation:\n",
    "\n",
    "![z_x1_x2_dag](figs/z_x1_x2.png)\n",
    "\n",
    "Define a **SCM** on $Z$, $X_1$, and $X_2$ called $\\mathfrak{C}$.  $\\mathfrak{C}$ consists of 3 **structural assignments** -- **subroutines** that map the values of **noise variables** ($N_Z$, $N_{X_1}$, and $N_{X_2}$) and **direct causes** to those of **direct effects**.  \n",
    "\n",
    "We assume the following 3 structural assignments (using formal notation):\n",
    "\n",
    "$$\n",
    "\\mathfrak{C}: \\left\\{\\begin{matrix}\n",
    "Z:= &N_{Z} \\\\ \n",
    "X_1:= & Z^2 + N_{X_1}\\\\ \n",
    "X_2:= &2*X_1 + Z + N_{X_2}\n",
    "\\end{matrix}\\right.\n",
    "$$\n",
    "\n",
    "### $\\mathfrak{C}$ as a subroutine"
   ]
  },
  {
   "cell_type": "code",
   "execution_count": null,
   "metadata": {},
   "outputs": [],
   "source": [
    "def fz(Nz):\n",
    "    return sample('Z', Delta(Nz))\n",
    "\n",
    "def fx1(Z, Nx1):\n",
    "    return sample('X1', Delta(Z*Z + Nx1))\n",
    "\n",
    "def fx2(X1, Z, Nx2):\n",
    "    return sample('X2', Delta(2*X1 + Z + Nx2))\n",
    "\n",
    "def scm_C(noise_dists):\n",
    "    # Exogenous noise\n",
    "    Nz = sample_f('Nz', noise_dists['Nz'])\n",
    "    Nx1 = sample_f('Nx1', noise_dists['Nx1'])\n",
    "    Nx2 = sample_f('Nx2', noise_dists['Nx2'])\n",
    "    # Structural assignment of endogenous variables\n",
    "    Z = fz(Nz)\n",
    "    X1 = fx1(Z, Nx1)\n",
    "    X2 = fx2(X1, Z, Nx2)\n",
    "    return Z, X1, X2"
   ]
  },
  {
   "cell_type": "code",
   "execution_count": null,
   "metadata": {},
   "outputs": [],
   "source": [
    "def scm(noise_dists):\n",
    "    Nz = tensor(float(sample('Nz', noise_dists['Nz'])))\n",
    "    Nx1 = tensor(float(sample('Nx1', noise_dists['Nx1'])))\n",
    "    Nx2 = tensor(float(sample('Nx2', noise_dists['Nx2'])))\n",
    "    Z = sample('Z', Delta(Nz))\n",
    "    X1 = sample('X1', Delta(Z*Z + Nx1))\n",
    "    X2 = sample('X2', Delta(2*X1 + Z + Nx2))\n",
    "    return Z, X1, X2"
   ]
  },
  {
   "cell_type": "code",
   "execution_count": null,
   "metadata": {},
   "outputs": [],
   "source": [
    "p = Variable(torch.Tensor([0.1]*10), requires_grad=True)\n",
    "n_prior = {n: Categorical(p) for n in ['Nz', 'Nx1', 'Nx2']}"
   ]
  },
  {
   "cell_type": "markdown",
   "metadata": {},
   "source": [
    "Query: What is the marginal distribution of $X_2$?"
   ]
  },
  {
   "cell_type": "code",
   "execution_count": null,
   "metadata": {},
   "outputs": [],
   "source": [
    "scm_dist = infer_dist(scm, n_prior)\n",
    "z_marginal = EmpiricalMarginal(scm_dist, sites='X2')"
   ]
  },
  {
   "cell_type": "code",
   "execution_count": null,
   "metadata": {},
   "outputs": [],
   "source": [
    "hist(z_marginal, \"X2\")"
   ]
  },
  {
   "cell_type": "markdown",
   "metadata": {},
   "source": [
    "Counterfactual query: Observe $X_1$ is 2, $X_2$ is 4.  What would $X_2$ have been if $X_1$ had instead been 8?\n",
    "\n",
    "\n",
    "3. Pass in updated noise marginals to modified program."
   ]
  },
  {
   "cell_type": "markdown",
   "metadata": {},
   "source": [
    "1. Condition on evidence $X_1$ is 2, $X_2$ is 4, and infer the posterior marginals of the noise terms."
   ]
  },
  {
   "cell_type": "code",
   "execution_count": null,
   "metadata": {
    "scrolled": true
   },
   "outputs": [],
   "source": [
    "evidence = {'X1': tensor(2.), 'X2': tensor(4.)}\n",
    "scm_obs = condition(scm, data=evidence)\n",
    "scm_obs_dist = infer_dist(scm_obs, n_prior)\n",
    "noise_marginals = {\n",
    "    n: EmpiricalMarginal(scm_obs_dist, sites=n)\n",
    "    for n in ['Nz', 'Nx1', 'Nx2']\n",
    "}"
   ]
  },
  {
   "cell_type": "markdown",
   "metadata": {},
   "source": [
    "2. Modify the initial SCM program with the do-operation, setting $X_1$ to 8"
   ]
  },
  {
   "cell_type": "code",
   "execution_count": null,
   "metadata": {},
   "outputs": [],
   "source": [
    "action = {'X1': tensor(8.)}\n",
    "scm_do = do(scm, data=action)\n",
    "scm_do_dist = infer_dist(scm_do, noise_marginals)\n",
    "x2_cf_marginal = EmpiricalMarginal(scm_do_dist, sites = 'X2')\n"
   ]
  },
  {
   "cell_type": "code",
   "execution_count": null,
   "metadata": {},
   "outputs": [],
   "source": [
    "print([x2_cf_marginal() for _ in range(3)])\n",
    "hist(x2_cf_marginal, \"X2\")"
   ]
  },
  {
   "cell_type": "markdown",
   "metadata": {},
   "source": [
    "# Formalization\n",
    "\n",
    "A **structual causal model**  $\\mathfrak{C}:=(S, P_N)$ consists of a collection $S$ of d **structural assignments**\n",
    "\n",
    "* $X_j := f_j(PA_j, N_j)$ $j = 1, ..., d$ where $PA_j \\subseteq {X_1, ..., X_d} \\not{\\ X_j}$ are the **direct causes** or 'parents' of $X_j$...\n",
    "* ... and $P_N = P_{N_1}, ..., P_{N_d}$ is a joint distribution over $d$ noise variables constrained to be jointly independent...\n",
    "*  $f_j$ is a \\textbf{structural assignment}: a deterministic subroutine that maps values of direct causes and noise variables to direct effects.\n",
    "* Structural assignments \\textbf{model the causal mechanism} deterministically. Stochasticity is exclusively captured by noise variables.\n",
    "* The SCM $\\mathfrak{C}$ defines a unique distribution (denoted $P^{\\mathfrak{C}}_{\\mathbb{X}}$ over variables $\\mathbb{X} = X_1, ..., X_d$\n"
   ]
  }
 ],
 "metadata": {
  "kernelspec": {
   "display_name": "venv",
   "language": "python",
   "name": "venv"
  },
  "language_info": {
   "codemirror_mode": {
    "name": "ipython",
    "version": 3
   },
   "file_extension": ".py",
   "mimetype": "text/x-python",
   "name": "python",
   "nbconvert_exporter": "python",
   "pygments_lexer": "ipython3",
   "version": "3.6.4"
  }
 },
 "nbformat": 4,
 "nbformat_minor": 2
}
