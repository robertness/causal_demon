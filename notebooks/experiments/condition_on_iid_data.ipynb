{
 "cells": [
  {
   "cell_type": "markdown",
   "metadata": {},
   "source": [
    "# Experiment on passing i.i.d. data to pyro.condition\n",
    "\n",
    "\n",
    "(Building the same model as pyro documentation: http://pyro.ai/examples/intro_part_ii.html#Conditioning-Models-on-Data)"
   ]
  },
  {
   "cell_type": "code",
   "execution_count": 6,
   "metadata": {
    "collapsed": true
   },
   "outputs": [],
   "source": [
    "# import some dependencies\n",
    "import numpy as np\n",
    "import pandas as pd\n",
    "import os\n",
    "\n",
    "import matplotlib.pyplot as plt\n",
    "%matplotlib inline\n",
    "\n",
    "import seaborn as sns\n",
    "sns.set(style=\"ticks\")\n",
    "\n",
    "import torch\n",
    "import torch.distributions.constraints as constraints\n",
    "\n",
    "import pyro\n",
    "from pyro.optim import Adam\n",
    "from pyro.infer import SVI, Trace_ELBO\n",
    "import pyro.infer\n",
    "import pyro.optim\n",
    "import pyro.distributions as dist\n",
    "from pyro.infer.mcmc import MCMC\n",
    "from pyro.infer.mcmc.nuts import NUTS\n",
    "torch.manual_seed(101);"
   ]
  },
  {
   "cell_type": "markdown",
   "metadata": {},
   "source": [
    "## Model"
   ]
  },
  {
   "cell_type": "code",
   "execution_count": 2,
   "metadata": {
    "collapsed": true
   },
   "outputs": [],
   "source": [
    "def scale(guess):\n",
    "    # The prior over weight encodes our uncertainty about our guess\n",
    "    # This is one dimension\n",
    "    weight = pyro.sample(\"weight\", dist.Normal(guess, 1.0))\n",
    "    # This encodes our belief about the noisiness of the scale:\n",
    "    # the measurement fluctuates around the true weight\n",
    "    # data point here is also one dimensional\n",
    "    return pyro.sample(\"measurement\", dist.Normal(weight, 0.75))"
   ]
  },
  {
   "cell_type": "markdown",
   "metadata": {},
   "source": [
    "## Conditioning Models on Data"
   ]
  },
  {
   "cell_type": "code",
   "execution_count": 3,
   "metadata": {},
   "outputs": [
    {
     "name": "stdout",
     "output_type": "stream",
     "text": [
      "tensor(12.5057)\n"
     ]
    },
    {
     "data": {
      "image/png": "[encoded data removed]",
      "text/plain": [
       "<Figure size 432x288 with 1 Axes>"
      ]
     },
     "metadata": {
      "needs_background": "light"
     },
     "output_type": "display_data"
    }
   ],
   "source": [
    "guess = 1.0\n",
    "measurement = 20.\n",
    "\n",
    "conditioned_scale = pyro.condition(scale, data={\"measurement\": measurement})\n",
    "\n",
    "#marginal = pyro.infer.EmpiricalMarginal(\n",
    "#    pyro.infer.Importance(conditioned_scale, num_samples=1000).run(guess), sites=\"weight\")\n",
    "nuts_kernel = NUTS(conditioned_scale, adapt_step_size=True)\n",
    "mcmc_run = MCMC(nuts_kernel, num_samples=500, warmup_steps=300).run(guess)\n",
    "marginal = pyro.infer.EmpiricalMarginal(mcmc_run, 'weight')\n",
    "\n",
    "# The marginal distribution concentrates around the data\n",
    "print(marginal())\n",
    "plt.hist([marginal().item() for _ in range(1000)],)\n",
    "plt.title(\"P(weight | measurement, guess)\")\n",
    "plt.xlabel(\"weight\")\n",
    "plt.ylabel(\"#\");"
   ]
  },
  {
   "cell_type": "markdown",
   "metadata": {},
   "source": [
    "## Conditioning Model with i.i.d. Data"
   ]
  },
  {
   "cell_type": "code",
   "execution_count": 5,
   "metadata": {
    "collapsed": true
   },
   "outputs": [],
   "source": [
    "# Number of i.i.d. samples\n",
    "\n",
    "# sample i.i.d points\n",
    "measurement = torch.tensor([21.0, 20.0, 19.0, 19.5, 20.5])\n",
    "\n",
    "# condition\n",
    "with pyro.iarange(\"data\", len(measurement)) as ind:\n",
    "    x=ind\n",
    "    measurement_batch = measurement[[ind]]\n",
    "    conditioned_scale_iid = pyro.condition(scale, data={\"measurement\": measurement_batch})\n",
    "\n",
    "num_samples = 1000\n",
    "#marginal = pyro.infer.EmpiricalMarginal(\n",
    "#    pyro.infer.Importance(conditioned_scale, num_samples=1000).run(1.0), sites=\"weight\")\n",
    "nuts_kernel = NUTS(conditioned_scale_iid, adapt_step_size=True)\n",
    "mcmc_run = MCMC(nuts_kernel, num_samples=500, warmup_steps=300).run(1.0)\n",
    "marginal = pyro.infer.EmpiricalMarginal(mcmc_run, 'weight')"
   ]
  },
  {
   "cell_type": "code",
   "execution_count": 6,
   "metadata": {},
   "outputs": [
    {
     "name": "stdout",
     "output_type": "stream",
     "text": [
      "tensor(17.7418)\n"
     ]
    },
    {
     "data": {
      "image/png": "[encoded data removed]",
      "text/plain": [
       "<Figure size 432x288 with 1 Axes>"
      ]
     },
     "metadata": {
      "needs_background": "light"
     },
     "output_type": "display_data"
    }
   ],
   "source": [
    "print(marginal())\n",
    "plt.hist([marginal().item() for _ in range(100)])\n",
    "plt.title(\"P(weight | measurement, guess)\")\n",
    "plt.xlabel(\"weight\")\n",
    "plt.ylabel(\"#\");"
   ]
  },
  {
   "cell_type": "code",
   "execution_count": null,
   "metadata": {
    "collapsed": true
   },
   "outputs": [],
   "source": [
    "# One dimensional data point, n dimensional data\n",
    "z1 = torch.tensor(0.)\n",
    "s1 = torch.tensor(10.)\n",
    "n = torch.Size([10])\n",
    "# Without use of 'independent'\n",
    "x1 = dist.Normal(z1, s1).sample(sample_shape = n)\n",
    "# With use of 'independent'\n",
    "x2 = dist.Normal(z1, s1).independent().sample(sample_shape = n)\n",
    "\n",
    "# K-dimensional data point, n dimensional data\n",
    "z2 = torch.tensor([0., 100.])\n",
    "s2 = torch.tensor([[1., 10.], [10., 1.]])\n",
    "# Without use of 'independent'\n",
    "x3 = dist.Normal(z2, s2).sample(sample_shape = n)\n",
    "# With use of 'independent'\n",
    "x4 = dist.Normal(z2, s2).independent().sample(sample_shape = n)\n"
   ]
  },
  {
   "cell_type": "markdown",
   "metadata": {},
   "source": [
    "# Variational Inference"
   ]
  },
  {
   "cell_type": "code",
   "execution_count": 72,
   "metadata": {
    "collapsed": true
   },
   "outputs": [],
   "source": [
    "def prev_scale(guess):\n",
    "    # The prior over weight encodes our uncertainty about our guess\n",
    "    # This is one dimension\n",
    "    weight = pyro.sample(\"weight\", dist.Normal(guess, 1.0))\n",
    "    # This encodes our belief about the noisiness of the scale:\n",
    "    # the measurement fluctuates around the true weight\n",
    "    # data point here is also one dimensional\n",
    "    return pyro.sample(\"measurement\", dist.Normal(weight, 0.75))\n",
    "\n",
    "def scale(data):\n",
    "    guess = torch.tensor(8.)\n",
    "    weight = pyro.sample(\"weight\", dist.Normal(guess, 1.0))\n",
    "    f = pyro.sample(\"measurement\", dist.Normal(weight, 0.75))\n",
    "    \n",
    "    # Normal\n",
    "    #for i in range(len(data)):\n",
    "    #    pyro.sample(\"obs_{}\".format(i), dist.Normal(f, 0.75), obs=data[i])\n",
    "        \n",
    "    # Conditionally independent\n",
    "    with pyro.iarange('observe_data'):\n",
    "        pyro.sample('obs', dist.Normal(f,0.75), obs=data)\n",
    "\n",
    "\n",
    "def scale_guide(data):\n",
    "    guess_q = pyro.param(\"guess_q\", torch.tensor(8.), \n",
    "                          constraint=constraints.positive)\n",
    "    weight = pyro.sample(\"weight\", dist.Normal(guess_q, 1.0))\n",
    "    \n",
    "    pyro.sample(\"measurement\", dist.Normal(guess_q, 0.75))"
   ]
  },
  {
   "cell_type": "code",
   "execution_count": 73,
   "metadata": {
    "collapsed": true
   },
   "outputs": [],
   "source": [
    "# setup the optimizer\n",
    "adam_params = {\"lr\": 0.0005, \"betas\": (0.90, 0.999)}\n",
    "optimizer = Adam(adam_params)\n",
    "\n",
    "# setup the inference algorithm\n",
    "svi = SVI(scale, scale_guide, optimizer, loss=Trace_ELBO())"
   ]
  },
  {
   "cell_type": "code",
   "execution_count": 74,
   "metadata": {},
   "outputs": [
    {
     "name": "stdout",
     "output_type": "stream",
     "text": [
      "...................."
     ]
    }
   ],
   "source": [
    "# this is for running the notebook in our testing framework\n",
    "n_steps = 2000\n",
    "\n",
    "# create data\n",
    "measurement = torch.tensor([18.,19.,13.,17.5,16.,18.2,20.5])\n",
    "#measurement = torch.tensor([8.,9.,3.,7.5,6.,8.2,10.5])\n",
    "\n",
    "# do gradient steps\n",
    "for step in range(n_steps):\n",
    "    svi.step(measurement)\n",
    "    if step % 100 == 0:\n",
    "        print('.', end='')"
   ]
  },
  {
   "cell_type": "code",
   "execution_count": 75,
   "metadata": {
    "scrolled": true
   },
   "outputs": [
    {
     "data": {
      "text/plain": [
       "16.720230102539062"
      ]
     },
     "execution_count": 75,
     "metadata": {},
     "output_type": "execute_result"
    }
   ],
   "source": [
    "guess_q = pyro.param(\"guess_q\").item()\n",
    "guess_q"
   ]
  }
 ],
 "metadata": {
  "kernelspec": {
   "display_name": "Python 3",
   "language": "python",
   "name": "python3"
  },
  "language_info": {
   "codemirror_mode": {
    "name": "ipython",
    "version": 3
   },
   "file_extension": ".py",
   "mimetype": "text/x-python",
   "name": "python",
   "nbconvert_exporter": "python",
   "pygments_lexer": "ipython3",
   "version": "3.6.3"
  }
 },
 "nbformat": 4,
 "nbformat_minor": 2
}
