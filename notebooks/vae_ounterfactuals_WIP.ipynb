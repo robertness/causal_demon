{
 "cells": [
  {
   "cell_type": "code",
   "execution_count": 1,
   "metadata": {},
   "outputs": [],
   "source": [
    "import os\n",
    "\n",
    "import numpy as np\n",
    "import torch\n",
    "import torchvision.datasets as dset\n",
    "import torch.nn as nn\n",
    "import torchvision.transforms as transforms\n",
    "\n",
    "import pyro\n",
    "import pyro.distributions as dist\n",
    "from pyro.infer import SVI, Trace_ELBO\n",
    "from pyro.optim import Adam"
   ]
  },
  {
   "cell_type": "code",
   "execution_count": 2,
   "metadata": {},
   "outputs": [],
   "source": [
    "pyro.enable_validation(True)\n",
    "pyro.distributions.enable_validation(False)\n",
    "pyro.set_rng_seed(0)\n",
    "smoke_test = 'CI' in os.environ"
   ]
  },
  {
   "cell_type": "code",
   "execution_count": 17,
   "metadata": {},
   "outputs": [],
   "source": [
    "def setup_data_loaders(batch_size=128, use_cuda=False):\n",
    "    root = './data'\n",
    "    download = True\n",
    "    trans = transforms.ToTensor()\n",
    "    train_set = dset.MNIST(root=root, train=True, transform=trans,\n",
    "                           download=download)\n",
    "    test_set = dset.MNIST(root=root, train=False, transform=trans)\n",
    "    kwargs = {'num_workers': 1, 'pin_memory': use_cuda}\n",
    "    train_loader = torch.utils.data.DataLoader(dataset=train_set, \n",
    "                                               batch_size=batch_size,\n",
    "                                              shuffle=True,\n",
    "                                              **kwargs)\n",
    "    test_loader = torch.utils.data.DataLoader(dataset=test_set,\n",
    "                                             batch_size=batch_size,\n",
    "                                             shuffle=False, **kwargs)\n",
    "    return train_loader, test_loader\n",
    "    "
   ]
  },
  {
   "cell_type": "code",
   "execution_count": 8,
   "metadata": {},
   "outputs": [],
   "source": [
    "class Decoder(nn.Module):\n",
    "    def __init__(self, z_dim, hidden_dim):\n",
    "        super(Decoder, self).__init__()\n",
    "        # setup the two linear transformations used\n",
    "        self.fc1 = nn.Linear(z_dim, hidden_dim)\n",
    "        self.fc21 = nn.Linear(hidden_dim, 784)\n",
    "        # setup the non-linearities\n",
    "        self.softplus = nn.Softplus()\n",
    "        self.sigmoid = nn.Sigmoid()\n",
    "\n",
    "    def forward(self, z):\n",
    "        # define the forward computation on the latent z\n",
    "        # first compute the hidden units\n",
    "        hidden = self.softplus(self.fc1(z))\n",
    "        # return the parameter for the output Bernoulli\n",
    "        # each is of size batch_size x 784\n",
    "        loc_img = self.sigmoid(self.fc21(hidden))\n",
    "        return loc_img"
   ]
  },
  {
   "cell_type": "code",
   "execution_count": 7,
   "metadata": {},
   "outputs": [],
   "source": [
    "class Encoder(nn.Module):\n",
    "    def __init__(self, z_dim, hidden_dim):\n",
    "        super(Encoder, self).__init__()\n",
    "        # setup the three linear transformations used\n",
    "        self.fc1 = nn.Linear(784, hidden_dim)\n",
    "        self.fc21 = nn.Linear(hidden_dim, z_dim)\n",
    "        self.fc22 = nn.Linear(hidden_dim, z_dim)\n",
    "        # setup the non-linearities\n",
    "        self.softplus = nn.Softplus()\n",
    "\n",
    "    def forward(self, x):\n",
    "        # define the forward computation on the image x\n",
    "        # first shape the mini-batch to have pixels in the rightmost dimension\n",
    "        x = x.reshape(-1, 784)\n",
    "        # then compute the hidden units\n",
    "        hidden = self.softplus(self.fc1(x))\n",
    "        # then return a mean vector and a (positive) square root covariance\n",
    "        # each of size batch_size x z_dim\n",
    "        z_loc = self.fc21(hidden)\n",
    "        z_scale = torch.exp(self.fc22(hidden))\n",
    "        return z_loc, z_scale"
   ]
  },
  {
   "cell_type": "markdown",
   "metadata": {},
   "source": [
    "What is torchvision and what is transforms?  It normalizes pixel intensities to the range `[0.0, 1.0]`."
   ]
  },
  {
   "cell_type": "markdown",
   "metadata": {},
   "source": [
    "I think iarange is doing independent data.  Iguess loc_img is a vector of probability params, one for each data point, that is used to simulate a value between 0 and 1.  The `.independent(1)` is definately worth looking up.  `obs=x.reshape(-1, 784))` seems to be doing the sample and conditioning in one step.  I can try removing it outside of the program later"
   ]
  },
  {
   "cell_type": "code",
   "execution_count": 9,
   "metadata": {},
   "outputs": [],
   "source": [
    "class VAE(nn.Module):\n",
    "    # by default our latent space is 50-dimensional\n",
    "    # and we use 400 hidden units\n",
    "    def __init__(self, z_dim=50, hidden_dim=400, use_cuda=False):\n",
    "        super(VAE, self).__init__()\n",
    "        # create the encoder and decoder networks\n",
    "        self.encoder = Encoder(z_dim, hidden_dim)\n",
    "        self.decoder = Decoder(z_dim, hidden_dim)\n",
    "\n",
    "        if use_cuda:\n",
    "            # calling cuda() here will put all the parameters of\n",
    "            # the encoder and decoder networks into gpu memory\n",
    "            self.cuda()\n",
    "        self.use_cuda = use_cuda\n",
    "        self.z_dim = z_dim\n",
    "\n",
    "    # define the model p(x|z)p(z)\n",
    "    def model(self, x):\n",
    "        # register PyTorch module `decoder` with Pyro\n",
    "        pyro.module(\"decoder\", self.decoder)\n",
    "        with pyro.iarange(\"data\", x.size(0)):\n",
    "            # setup hyperparameters for prior p(z)\n",
    "            z_loc = x.new_zeros(torch.Size((x.size(0), self.z_dim)))\n",
    "            z_scale = x.new_ones(torch.Size((x.size(0), self.z_dim)))\n",
    "            # sample from prior (value will be sampled by guide when computing the ELBO)\n",
    "            z = pyro.sample(\"latent\", dist.Normal(z_loc, z_scale).independent(1))\n",
    "            # decode the latent code z\n",
    "            loc_img = self.decoder.forward(z)\n",
    "            # score against actual images\n",
    "            pyro.sample(\"obs\", dist.Bernoulli(loc_img).independent(1), obs=x.reshape(-1, 784))\n",
    "\n",
    "    # define the guide (i.e. variational distribution) q(z|x)\n",
    "    def guide(self, x):\n",
    "        # register PyTorch module `encoder` with Pyro\n",
    "        pyro.module(\"encoder\", self.encoder)\n",
    "        with pyro.iarange(\"data\", x.size(0)):\n",
    "            # use the encoder to get the parameters used to define q(z|x)\n",
    "            z_loc, z_scale = self.encoder.forward(x)\n",
    "            # sample the latent code z\n",
    "            pyro.sample(\"latent\", dist.Normal(z_loc, z_scale).independent(1))\n",
    "\n",
    "    # define a helper function for reconstructing images\n",
    "    def reconstruct_img(self, x):\n",
    "        # encode image x\n",
    "        z_loc, z_scale = self.encoder(x)\n",
    "        # sample in latent space\n",
    "        z = dist.Normal(z_loc, z_scale).sample()\n",
    "        # decode the image (note we don't sample in image space)\n",
    "        loc_img = self.decoder(z)\n",
    "        return loc_img\n"
   ]
  },
  {
   "cell_type": "code",
   "execution_count": 10,
   "metadata": {},
   "outputs": [],
   "source": [
    "vae = VAE()"
   ]
  },
  {
   "cell_type": "code",
   "execution_count": 11,
   "metadata": {},
   "outputs": [],
   "source": [
    "optimizer = Adam({'lr': 1.0e-3})"
   ]
  },
  {
   "cell_type": "code",
   "execution_count": 12,
   "metadata": {},
   "outputs": [],
   "source": [
    "svi = SVI(vae.model, vae.guide, optimizer, loss=Trace_ELBO())"
   ]
  },
  {
   "cell_type": "code",
   "execution_count": 13,
   "metadata": {},
   "outputs": [],
   "source": [
    "def train(svi, train_loader, use_cuda=False):\n",
    "    # initialize loss accumulator\n",
    "    epoch_loss = 0.\n",
    "    # do a training epoch over each mini-batch x returned\n",
    "    # by the data loader\n",
    "    for _, (x, _) in enumerate(train_loader):\n",
    "        # if on GPU put mini-batch into CUDA memory\n",
    "        if use_cuda:\n",
    "            x = x.cuda()\n",
    "        # do ELBO gradient and accumulate loss\n",
    "        epoch_loss += svi.step(x)\n",
    "\n",
    "    # return epoch loss\n",
    "    normalizer_train = len(train_loader.dataset)\n",
    "    total_epoch_loss_train = epoch_loss / normalizer_train\n",
    "    return total_epoch_loss_train"
   ]
  },
  {
   "cell_type": "markdown",
   "metadata": {},
   "source": [
    "`Step` here would probably need modification"
   ]
  },
  {
   "cell_type": "code",
   "execution_count": 14,
   "metadata": {},
   "outputs": [],
   "source": [
    "def evaluate(svi, test_loader, use_cuda=False):\n",
    "    # initialize loss accumulator\n",
    "    test_loss = 0.\n",
    "    # compute the loss over the entire test set\n",
    "    for i, (x, _) in enumerate(test_loader):\n",
    "        # if on GPU put mini-batch into CUDA memory\n",
    "        if use_cuda:\n",
    "            x = x.cuda()\n",
    "        # compute ELBO estimate and accumulate loss\n",
    "        test_loss += svi.evaluate_loss(x)\n",
    "    normalizer_test = len(test_loader.dataset)\n",
    "    total_epoch_loss_test = test_loss / normalizer_test\n",
    "    return total_epoch_loss_test"
   ]
  },
  {
   "cell_type": "code",
   "execution_count": 15,
   "metadata": {},
   "outputs": [],
   "source": [
    "LEARNING_RATE = 1.0e-3\n",
    "USE_CUDA = False\n",
    "\n",
    "# Run only for a single iteration for testing\n",
    "NUM_EPOCHS = 1 if smoke_test else 100\n",
    "TEST_FREQUENCY = 5"
   ]
  },
  {
   "cell_type": "code",
   "execution_count": 18,
   "metadata": {},
   "outputs": [
    {
     "name": "stdout",
     "output_type": "stream",
     "text": [
      "[epoch 000]  average training loss: 191.0216\n",
      "[epoch 000] average test loss: 156.0872\n",
      "[epoch 001]  average training loss: 146.8141\n",
      "[epoch 002]  average training loss: 133.2540\n",
      "[epoch 003]  average training loss: 124.6775\n",
      "[epoch 004]  average training loss: 119.5152\n",
      "[epoch 005]  average training loss: 116.1240\n",
      "[epoch 005] average test loss: 113.7908\n",
      "[epoch 006]  average training loss: 113.7285\n",
      "[epoch 007]  average training loss: 112.0445\n",
      "[epoch 008]  average training loss: 110.7292\n",
      "[epoch 009]  average training loss: 109.7455\n",
      "[epoch 010]  average training loss: 108.9070\n",
      "[epoch 010] average test loss: 107.7720\n",
      "[epoch 011]  average training loss: 108.2513\n",
      "[epoch 012]  average training loss: 107.6953\n",
      "[epoch 013]  average training loss: 107.2849\n",
      "[epoch 014]  average training loss: 106.8870\n",
      "[epoch 015]  average training loss: 106.4983\n",
      "[epoch 015] average test loss: 105.9786\n",
      "[epoch 016]  average training loss: 106.1872\n",
      "[epoch 017]  average training loss: 105.9363\n",
      "[epoch 018]  average training loss: 105.7087\n",
      "[epoch 019]  average training loss: 105.4600\n",
      "[epoch 020]  average training loss: 105.2648\n",
      "[epoch 020] average test loss: 104.7754\n",
      "[epoch 021]  average training loss: 105.0442\n",
      "[epoch 022]  average training loss: 104.9031\n",
      "[epoch 023]  average training loss: 104.7304\n",
      "[epoch 024]  average training loss: 104.6027\n",
      "[epoch 025]  average training loss: 104.4586\n",
      "[epoch 025] average test loss: 104.2971\n",
      "[epoch 026]  average training loss: 104.3756\n",
      "[epoch 027]  average training loss: 104.2278\n",
      "[epoch 028]  average training loss: 104.1049\n",
      "[epoch 029]  average training loss: 104.0565\n",
      "[epoch 030]  average training loss: 103.8851\n",
      "[epoch 030] average test loss: 103.5859\n",
      "[epoch 031]  average training loss: 103.7705\n",
      "[epoch 032]  average training loss: 103.7331\n",
      "[epoch 033]  average training loss: 103.6272\n",
      "[epoch 034]  average training loss: 103.5645\n",
      "[epoch 035]  average training loss: 103.4693\n",
      "[epoch 035] average test loss: 103.1316\n",
      "[epoch 036]  average training loss: 103.3898\n",
      "[epoch 037]  average training loss: 103.3199\n",
      "[epoch 038]  average training loss: 103.2840\n",
      "[epoch 039]  average training loss: 103.1866\n",
      "[epoch 040]  average training loss: 103.1108\n",
      "[epoch 040] average test loss: 103.0911\n",
      "[epoch 041]  average training loss: 103.0730\n",
      "[epoch 042]  average training loss: 103.0086\n",
      "[epoch 043]  average training loss: 102.9338\n",
      "[epoch 044]  average training loss: 102.8887\n",
      "[epoch 045]  average training loss: 102.8416\n",
      "[epoch 045] average test loss: 102.8022\n",
      "[epoch 046]  average training loss: 102.7833\n",
      "[epoch 047]  average training loss: 102.7389\n",
      "[epoch 048]  average training loss: 102.6800\n",
      "[epoch 049]  average training loss: 102.6738\n",
      "[epoch 050]  average training loss: 102.5855\n",
      "[epoch 050] average test loss: 102.5790\n",
      "[epoch 051]  average training loss: 102.5615\n",
      "[epoch 052]  average training loss: 102.4934\n",
      "[epoch 053]  average training loss: 102.4610\n",
      "[epoch 054]  average training loss: 102.4274\n",
      "[epoch 055]  average training loss: 102.3713\n",
      "[epoch 055] average test loss: 102.3923\n",
      "[epoch 056]  average training loss: 102.3328\n",
      "[epoch 057]  average training loss: 102.2912\n",
      "[epoch 058]  average training loss: 102.1891\n",
      "[epoch 059]  average training loss: 102.2194\n",
      "[epoch 060]  average training loss: 102.1762\n",
      "[epoch 060] average test loss: 102.1223\n",
      "[epoch 061]  average training loss: 102.1585\n",
      "[epoch 062]  average training loss: 102.0887\n",
      "[epoch 063]  average training loss: 102.0703\n",
      "[epoch 064]  average training loss: 102.0091\n",
      "[epoch 065]  average training loss: 101.9924\n",
      "[epoch 065] average test loss: 102.0361\n",
      "[epoch 066]  average training loss: 101.9461\n",
      "[epoch 067]  average training loss: 101.8985\n",
      "[epoch 068]  average training loss: 101.8809\n",
      "[epoch 069]  average training loss: 101.8588\n",
      "[epoch 070]  average training loss: 101.8102\n",
      "[epoch 070] average test loss: 102.1124\n",
      "[epoch 071]  average training loss: 101.7739\n",
      "[epoch 072]  average training loss: 101.7548\n",
      "[epoch 073]  average training loss: 101.7252\n",
      "[epoch 074]  average training loss: 101.7424\n",
      "[epoch 075]  average training loss: 101.6693\n",
      "[epoch 075] average test loss: 101.8703\n",
      "[epoch 076]  average training loss: 101.6238\n",
      "[epoch 077]  average training loss: 101.5941\n",
      "[epoch 078]  average training loss: 101.5562\n",
      "[epoch 079]  average training loss: 101.5380\n",
      "[epoch 080]  average training loss: 101.4967\n",
      "[epoch 080] average test loss: 101.6312\n",
      "[epoch 081]  average training loss: 101.4572\n",
      "[epoch 082]  average training loss: 101.4549\n",
      "[epoch 083]  average training loss: 101.3729\n",
      "[epoch 084]  average training loss: 101.3880\n",
      "[epoch 085]  average training loss: 101.3953\n",
      "[epoch 085] average test loss: 101.5520\n",
      "[epoch 086]  average training loss: 101.3212\n",
      "[epoch 087]  average training loss: 101.3289\n",
      "[epoch 088]  average training loss: 101.3108\n",
      "[epoch 089]  average training loss: 101.2534\n",
      "[epoch 090]  average training loss: 101.2607\n",
      "[epoch 090] average test loss: 101.2997\n",
      "[epoch 091]  average training loss: 101.2435\n",
      "[epoch 092]  average training loss: 101.1965\n",
      "[epoch 093]  average training loss: 101.1350\n",
      "[epoch 094]  average training loss: 101.1215\n",
      "[epoch 095]  average training loss: 101.0969\n",
      "[epoch 095] average test loss: 101.2543\n",
      "[epoch 096]  average training loss: 101.1045\n",
      "[epoch 097]  average training loss: 101.0621\n",
      "[epoch 098]  average training loss: 101.0410\n",
      "[epoch 099]  average training loss: 101.0019\n"
     ]
    }
   ],
   "source": [
    "train_loader, test_loader = setup_data_loaders(batch_size=256, use_cuda=USE_CUDA)\n",
    "\n",
    "# setup the VAE\n",
    "vae = VAE(use_cuda=USE_CUDA)\n",
    "\n",
    "# setup the optimizer\n",
    "adam_args = {\"lr\": LEARNING_RATE}\n",
    "optimizer = Adam(adam_args)\n",
    "\n",
    "# setup the inference algorithm\n",
    "svi = SVI(vae.model, vae.guide, optimizer, loss=Trace_ELBO())\n",
    "\n",
    "train_elbo = []\n",
    "test_elbo = []\n",
    "# training loop\n",
    "for epoch in range(NUM_EPOCHS):\n",
    "    total_epoch_loss_train = train(svi, train_loader, use_cuda=USE_CUDA)\n",
    "    train_elbo.append(-total_epoch_loss_train)\n",
    "    print(\"[epoch %03d]  average training loss: %.4f\" % (epoch, total_epoch_loss_train))\n",
    "\n",
    "    if epoch % TEST_FREQUENCY == 0:\n",
    "        # report test diagnostics\n",
    "        total_epoch_loss_test = evaluate(svi, test_loader, use_cuda=USE_CUDA)\n",
    "        test_elbo.append(-total_epoch_loss_test)\n",
    "        print(\"[epoch %03d] average test loss: %.4f\" % (epoch, total_epoch_loss_test))\n"
   ]
  },
  {
   "cell_type": "markdown",
   "metadata": {},
   "source": [
    "So I guess the first thing to do is figure out how to view a simulated image"
   ]
  },
  {
   "cell_type": "code",
   "execution_count": 20,
   "metadata": {},
   "outputs": [],
   "source": [
    "x = [y for i, y in enumerate(test_loader) if i < 1]"
   ]
  },
  {
   "cell_type": "code",
   "execution_count": 33,
   "metadata": {},
   "outputs": [],
   "source": [
    "root = './data'\n",
    "download = True\n",
    "trans = transforms.ToTensor()\n",
    "train_set = dset.MNIST(root=root, train=True, transform=trans, download=download)\n",
    "x = train_set[0][0]"
   ]
  },
  {
   "cell_type": "code",
   "execution_count": 58,
   "metadata": {},
   "outputs": [],
   "source": [
    "images = [train_set[i] for i in range(10)]\n",
    "z_params = [vae.encoder(x[0]) for x in images]\n",
    "noise_vars = [dist.Normal(z[0], z[1]) for z in z_params]\n",
    "x = vae.decoder(noise_vars[0].sample())\n"
   ]
  },
  {
   "cell_type": "code",
   "execution_count": 73,
   "metadata": {},
   "outputs": [
    {
     "name": "stdout",
     "output_type": "stream",
     "text": [
      "torch.Size([1, 28, 28])\n",
      "torch.Size([1, 784])\n"
     ]
    }
   ],
   "source": [
    "#transforms.ToPILImage()(pic=x) #getting type error\n",
    "transforms.ToPILImage()(pic=images[0][0])\n",
    "print(images[0][0].shape)\n",
    "print(x.shape)\n",
    "# just need to figure out how we went from [1, 28, 28] to [1, 784] and then \n",
    "# figure out how to get back."
   ]
  }
 ],
 "metadata": {
  "kernelspec": {
   "display_name": "venv",
   "language": "python",
   "name": "venv"
  },
  "language_info": {
   "codemirror_mode": {
    "name": "ipython",
    "version": 3
   },
   "file_extension": ".py",
   "mimetype": "text/x-python",
   "name": "python",
   "nbconvert_exporter": "python",
   "pygments_lexer": "ipython3",
   "version": "3.6.4"
  }
 },
 "nbformat": 4,
 "nbformat_minor": 2
}
