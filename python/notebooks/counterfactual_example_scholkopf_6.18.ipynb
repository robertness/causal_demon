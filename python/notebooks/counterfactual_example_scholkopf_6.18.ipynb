{
 "cells": [
  {
   "cell_type": "code",
   "execution_count": null,
   "metadata": {},
   "outputs": [],
   "source": [
    "from functools import partial\n",
    "import torch\n",
    "from torch import tensor\n",
    "from torch.autograd import Variable, gradcheck\n",
    "\n",
    "import pyro\n",
    "from pyro import condition, do, infer, sample\n",
    "from pyro.distributions import Categorical, Delta, Normal\n",
    "from pyro.infer import EmpiricalMarginal, Importance\n",
    "\n",
    "from matplotlib import pyplot as plt\n",
    "%matplotlib inline"
   ]
  },
  {
   "cell_type": "markdown",
   "metadata": {},
   "source": [
    "# Preamble\n",
    "Tools for increase readability and saving space."
   ]
  },
  {
   "cell_type": "code",
   "execution_count": null,
   "metadata": {},
   "outputs": [],
   "source": [
    "# Use importance sampling with 5000 samples for inference\n",
    "\n",
    "def sample_f(name, dist):\n",
    "    \"\"\"Convert a sampled integer to a float\n",
    "    \"\"\"\n",
    "    return tensor(float(sample(name, dist)))\n",
    "    \n",
    "def infer_dist(prog, n_dist):\n",
    "    \"\"\"Obtain the unique distribution entailed by a SCM.\n",
    "    Simple importance sampling with 5000 samples is used.\n",
    "    `prog`: the subroutine encoding the SCM.\n",
    "    `n_dist`: a dictionary containing distributions for each\n",
    "    noise object.\n",
    "    \"\"\"\n",
    "    return Importance(prog, num_samples=5000).run(n_dist)\n",
    "\n",
    "def hist(marginal, name):\n",
    "    plt.hist([marginal() for _ in range(5000)])\n",
    "    plt.title(\"Marginal Histogram of {}\".format(name))\n",
    "    plt.xlabel(\"concentration\")\n",
    "    plt.ylabel(\"#\")"
   ]
  },
  {
   "cell_type": "markdown",
   "metadata": {},
   "source": [
    "# Structural Causal Models (SCMs)\n",
    "\n",
    "Consider a simple model with a typically unobserved latent class $Z$, and two observed features, with the following causal DAG representation:\n",
    "\n",
    "![z_x1_x2_dag](figs/z_x1_x2.png)\n",
    "\n",
    "Define a **SCM** on $Z$, $X_1$, and $X_2$ called $\\mathfrak{C}$.  $\\mathfrak{C}$ consists of 3 **structural assignments** -- **subroutines** that map the values of **noise variables** ($N_Z$, $N_{X_1}$, and $N_{X_2}$) and **direct causes** to those of **direct effects**.  \n",
    "\n",
    "We assume the following 3 structural assignments (using formal notation):\n",
    "\n",
    "$$\n",
    "\\mathfrak{C}: \\left\\{\\begin{matrix}\n",
    "Z:= &N_{Z} \\\\ \n",
    "X_1:= & Z^2 + N_{X_1}\\\\ \n",
    "X_2:= &2*X_1 + Z + N_{X_2}\n",
    "\\end{matrix}\\right.\n",
    "$$\n",
    "\n",
    "### $\\mathfrak{C}$ as a subroutine"
   ]
  },
  {
   "cell_type": "code",
   "execution_count": null,
   "metadata": {},
   "outputs": [],
   "source": [
    "def fz(Nz):\n",
    "    return sample('Z', Delta(Nz))\n",
    "\n",
    "def fx1(Z, Nx1):\n",
    "    return sample('X1', Delta(Z*Z + Nx1))\n",
    "\n",
    "def fx2(X1, Z, Nx2):\n",
    "    return sample('X2', Delta(2*X1 + Z + Nx2))\n",
    "\n",
    "def model(noise_dists):\n",
    "    # Exogenous noise\n",
    "    Nz = sample_f('Nz', noise_dists['Nz'])\n",
    "    Nx1 = sample_f('Nx1', noise_dists['Nx1'])\n",
    "    Nx2 = sample_f('Nx2', noise_dists['Nx2'])\n",
    "    # Structural assignment of endogenous variables\n",
    "    Z = fz(Nz)\n",
    "    X1 = fx1(Z, Nx1)\n",
    "    X2 = fx2(X1, Z, Nx2)\n",
    "    return Z, X1, X2"
   ]
  },
  {
   "cell_type": "code",
   "execution_count": null,
   "metadata": {},
   "outputs": [],
   "source": [
    "p = Variable(torch.Tensor([0.1]*10), requires_grad=True)\n",
    "n_prior = {n: Categorical(p) for n in ['Nz', 'Nx1', 'Nx2']}"
   ]
  },
  {
   "cell_type": "markdown",
   "metadata": {},
   "source": [
    "Query: What is the marginal distribution of $X_2$?"
   ]
  },
  {
   "cell_type": "code",
   "execution_count": null,
   "metadata": {},
   "outputs": [],
   "source": [
    "model_dist = infer_dist(model, n_prior)\n",
    "x2_marginal = EmpiricalMarginal(model_dist, sites='X2')"
   ]
  },
  {
   "cell_type": "code",
   "execution_count": null,
   "metadata": {},
   "outputs": [],
   "source": [
    "hist(x2_marginal, \"X2\")"
   ]
  },
  {
   "cell_type": "code",
   "execution_count": null,
   "metadata": {},
   "outputs": [],
   "source": [
    "#[int(x2_marginal()) for _ in range(1000)]"
   ]
  },
  {
   "cell_type": "markdown",
   "metadata": {},
   "source": [
    "Counterfactual query: Observe $X_1$ is 2, $X_2$ is 4.  What would $X_2$ have been if $X_1$ had instead been 8?\n"
   ]
  },
  {
   "cell_type": "markdown",
   "metadata": {},
   "source": [
    "1. Condition on evidence $X_1$ is 2, $X_2$ is 4, and infer the posterior marginals of the noise terms."
   ]
  },
  {
   "cell_type": "code",
   "execution_count": null,
   "metadata": {
    "scrolled": true
   },
   "outputs": [],
   "source": [
    "evidence = {'X1': tensor(2.)}\n",
    "model_obs = condition(model, data=evidence)\n",
    "model_dist = infer_dist(model_obs, n_prior)\n",
    "noise_marginals = {\n",
    "    n: EmpiricalMarginal(model_dist, sites=n)\n",
    "    for n in ['Nz', 'Nx1', 'Nx2']\n",
    "}"
   ]
  },
  {
   "cell_type": "markdown",
   "metadata": {},
   "source": [
    "2. Modify the initial SCM program with the do-operation, setting $X_1$ to 8"
   ]
  },
  {
   "cell_type": "code",
   "execution_count": null,
   "metadata": {},
   "outputs": [],
   "source": [
    "action = {'X1': tensor(8.)}\n",
    "model_do = do(model, data=action)\n",
    "model_do_dist = infer_dist(model_do, noise_marginals)\n",
    "x2_cf_marginal = EmpiricalMarginal(model_do_dist, sites='X2')"
   ]
  },
  {
   "cell_type": "code",
   "execution_count": null,
   "metadata": {},
   "outputs": [],
   "source": [
    "hist(x2_cf_marginal, \"X2\")"
   ]
  }
 ],
 "metadata": {
  "kernelspec": {
   "display_name": "venv",
   "language": "python",
   "name": "venv"
  },
  "language_info": {
   "codemirror_mode": {
    "name": "ipython",
    "version": 3
   },
   "file_extension": ".py",
   "mimetype": "text/x-python",
   "name": "python",
   "nbconvert_exporter": "python",
   "pygments_lexer": "ipython3",
   "version": "3.6.4"
  }
 },
 "nbformat": 4,
 "nbformat_minor": 2
}
